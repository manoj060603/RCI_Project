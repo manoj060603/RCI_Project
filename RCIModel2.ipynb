{
  "nbformat": 4,
  "nbformat_minor": 0,
  "metadata": {
    "colab": {
      "provenance": []
    },
    "kernelspec": {
      "name": "python3",
      "display_name": "Python 3"
    },
    "language_info": {
      "name": "python"
    },
    "widgets": {
      "application/vnd.jupyter.widget-state+json": {
        "c85ae017194643b8bde1b5f82c693a19": {
          "model_module": "@jupyter-widgets/controls",
          "model_name": "HBoxModel",
          "model_module_version": "1.5.0",
          "state": {
            "_dom_classes": [],
            "_model_module": "@jupyter-widgets/controls",
            "_model_module_version": "1.5.0",
            "_model_name": "HBoxModel",
            "_view_count": null,
            "_view_module": "@jupyter-widgets/controls",
            "_view_module_version": "1.5.0",
            "_view_name": "HBoxView",
            "box_style": "",
            "children": [
              "IPY_MODEL_283061ba21cf471da652f2b5c83bf203",
              "IPY_MODEL_0c2eb1741b824faeb30424c0f2cb7aff",
              "IPY_MODEL_3b5d2e993cd54c5dbe254e3a19d761c8"
            ],
            "layout": "IPY_MODEL_6acba5a4e9014d8695ea31be5e029c26"
          }
        },
        "283061ba21cf471da652f2b5c83bf203": {
          "model_module": "@jupyter-widgets/controls",
          "model_name": "HTMLModel",
          "model_module_version": "1.5.0",
          "state": {
            "_dom_classes": [],
            "_model_module": "@jupyter-widgets/controls",
            "_model_module_version": "1.5.0",
            "_model_name": "HTMLModel",
            "_view_count": null,
            "_view_module": "@jupyter-widgets/controls",
            "_view_module_version": "1.5.0",
            "_view_name": "HTMLView",
            "description": "",
            "description_tooltip": null,
            "layout": "IPY_MODEL_5f9f6c1e6ed741e48c9144b2511cdaac",
            "placeholder": "​",
            "style": "IPY_MODEL_74c36414918c41da9ff6915d3e30a4bd",
            "value": "Downloading (…)lve/main/config.json: 100%"
          }
        },
        "0c2eb1741b824faeb30424c0f2cb7aff": {
          "model_module": "@jupyter-widgets/controls",
          "model_name": "FloatProgressModel",
          "model_module_version": "1.5.0",
          "state": {
            "_dom_classes": [],
            "_model_module": "@jupyter-widgets/controls",
            "_model_module_version": "1.5.0",
            "_model_name": "FloatProgressModel",
            "_view_count": null,
            "_view_module": "@jupyter-widgets/controls",
            "_view_module_version": "1.5.0",
            "_view_name": "ProgressView",
            "bar_style": "success",
            "description": "",
            "description_tooltip": null,
            "layout": "IPY_MODEL_1859aef32fc5405492bd89934e16c984",
            "max": 1802,
            "min": 0,
            "orientation": "horizontal",
            "style": "IPY_MODEL_8d867d7ae47d4f1a830a593c7ed843b4",
            "value": 1802
          }
        },
        "3b5d2e993cd54c5dbe254e3a19d761c8": {
          "model_module": "@jupyter-widgets/controls",
          "model_name": "HTMLModel",
          "model_module_version": "1.5.0",
          "state": {
            "_dom_classes": [],
            "_model_module": "@jupyter-widgets/controls",
            "_model_module_version": "1.5.0",
            "_model_name": "HTMLModel",
            "_view_count": null,
            "_view_module": "@jupyter-widgets/controls",
            "_view_module_version": "1.5.0",
            "_view_name": "HTMLView",
            "description": "",
            "description_tooltip": null,
            "layout": "IPY_MODEL_e13451cdf59142dcb243263653cfb469",
            "placeholder": "​",
            "style": "IPY_MODEL_275abbc43b1f4ef383982a0844e91576",
            "value": " 1.80k/1.80k [00:00&lt;00:00, 68.4kB/s]"
          }
        },
        "6acba5a4e9014d8695ea31be5e029c26": {
          "model_module": "@jupyter-widgets/base",
          "model_name": "LayoutModel",
          "model_module_version": "1.2.0",
          "state": {
            "_model_module": "@jupyter-widgets/base",
            "_model_module_version": "1.2.0",
            "_model_name": "LayoutModel",
            "_view_count": null,
            "_view_module": "@jupyter-widgets/base",
            "_view_module_version": "1.2.0",
            "_view_name": "LayoutView",
            "align_content": null,
            "align_items": null,
            "align_self": null,
            "border": null,
            "bottom": null,
            "display": null,
            "flex": null,
            "flex_flow": null,
            "grid_area": null,
            "grid_auto_columns": null,
            "grid_auto_flow": null,
            "grid_auto_rows": null,
            "grid_column": null,
            "grid_gap": null,
            "grid_row": null,
            "grid_template_areas": null,
            "grid_template_columns": null,
            "grid_template_rows": null,
            "height": null,
            "justify_content": null,
            "justify_items": null,
            "left": null,
            "margin": null,
            "max_height": null,
            "max_width": null,
            "min_height": null,
            "min_width": null,
            "object_fit": null,
            "object_position": null,
            "order": null,
            "overflow": null,
            "overflow_x": null,
            "overflow_y": null,
            "padding": null,
            "right": null,
            "top": null,
            "visibility": null,
            "width": null
          }
        },
        "5f9f6c1e6ed741e48c9144b2511cdaac": {
          "model_module": "@jupyter-widgets/base",
          "model_name": "LayoutModel",
          "model_module_version": "1.2.0",
          "state": {
            "_model_module": "@jupyter-widgets/base",
            "_model_module_version": "1.2.0",
            "_model_name": "LayoutModel",
            "_view_count": null,
            "_view_module": "@jupyter-widgets/base",
            "_view_module_version": "1.2.0",
            "_view_name": "LayoutView",
            "align_content": null,
            "align_items": null,
            "align_self": null,
            "border": null,
            "bottom": null,
            "display": null,
            "flex": null,
            "flex_flow": null,
            "grid_area": null,
            "grid_auto_columns": null,
            "grid_auto_flow": null,
            "grid_auto_rows": null,
            "grid_column": null,
            "grid_gap": null,
            "grid_row": null,
            "grid_template_areas": null,
            "grid_template_columns": null,
            "grid_template_rows": null,
            "height": null,
            "justify_content": null,
            "justify_items": null,
            "left": null,
            "margin": null,
            "max_height": null,
            "max_width": null,
            "min_height": null,
            "min_width": null,
            "object_fit": null,
            "object_position": null,
            "order": null,
            "overflow": null,
            "overflow_x": null,
            "overflow_y": null,
            "padding": null,
            "right": null,
            "top": null,
            "visibility": null,
            "width": null
          }
        },
        "74c36414918c41da9ff6915d3e30a4bd": {
          "model_module": "@jupyter-widgets/controls",
          "model_name": "DescriptionStyleModel",
          "model_module_version": "1.5.0",
          "state": {
            "_model_module": "@jupyter-widgets/controls",
            "_model_module_version": "1.5.0",
            "_model_name": "DescriptionStyleModel",
            "_view_count": null,
            "_view_module": "@jupyter-widgets/base",
            "_view_module_version": "1.2.0",
            "_view_name": "StyleView",
            "description_width": ""
          }
        },
        "1859aef32fc5405492bd89934e16c984": {
          "model_module": "@jupyter-widgets/base",
          "model_name": "LayoutModel",
          "model_module_version": "1.2.0",
          "state": {
            "_model_module": "@jupyter-widgets/base",
            "_model_module_version": "1.2.0",
            "_model_name": "LayoutModel",
            "_view_count": null,
            "_view_module": "@jupyter-widgets/base",
            "_view_module_version": "1.2.0",
            "_view_name": "LayoutView",
            "align_content": null,
            "align_items": null,
            "align_self": null,
            "border": null,
            "bottom": null,
            "display": null,
            "flex": null,
            "flex_flow": null,
            "grid_area": null,
            "grid_auto_columns": null,
            "grid_auto_flow": null,
            "grid_auto_rows": null,
            "grid_column": null,
            "grid_gap": null,
            "grid_row": null,
            "grid_template_areas": null,
            "grid_template_columns": null,
            "grid_template_rows": null,
            "height": null,
            "justify_content": null,
            "justify_items": null,
            "left": null,
            "margin": null,
            "max_height": null,
            "max_width": null,
            "min_height": null,
            "min_width": null,
            "object_fit": null,
            "object_position": null,
            "order": null,
            "overflow": null,
            "overflow_x": null,
            "overflow_y": null,
            "padding": null,
            "right": null,
            "top": null,
            "visibility": null,
            "width": null
          }
        },
        "8d867d7ae47d4f1a830a593c7ed843b4": {
          "model_module": "@jupyter-widgets/controls",
          "model_name": "ProgressStyleModel",
          "model_module_version": "1.5.0",
          "state": {
            "_model_module": "@jupyter-widgets/controls",
            "_model_module_version": "1.5.0",
            "_model_name": "ProgressStyleModel",
            "_view_count": null,
            "_view_module": "@jupyter-widgets/base",
            "_view_module_version": "1.2.0",
            "_view_name": "StyleView",
            "bar_color": null,
            "description_width": ""
          }
        },
        "e13451cdf59142dcb243263653cfb469": {
          "model_module": "@jupyter-widgets/base",
          "model_name": "LayoutModel",
          "model_module_version": "1.2.0",
          "state": {
            "_model_module": "@jupyter-widgets/base",
            "_model_module_version": "1.2.0",
            "_model_name": "LayoutModel",
            "_view_count": null,
            "_view_module": "@jupyter-widgets/base",
            "_view_module_version": "1.2.0",
            "_view_name": "LayoutView",
            "align_content": null,
            "align_items": null,
            "align_self": null,
            "border": null,
            "bottom": null,
            "display": null,
            "flex": null,
            "flex_flow": null,
            "grid_area": null,
            "grid_auto_columns": null,
            "grid_auto_flow": null,
            "grid_auto_rows": null,
            "grid_column": null,
            "grid_gap": null,
            "grid_row": null,
            "grid_template_areas": null,
            "grid_template_columns": null,
            "grid_template_rows": null,
            "height": null,
            "justify_content": null,
            "justify_items": null,
            "left": null,
            "margin": null,
            "max_height": null,
            "max_width": null,
            "min_height": null,
            "min_width": null,
            "object_fit": null,
            "object_position": null,
            "order": null,
            "overflow": null,
            "overflow_x": null,
            "overflow_y": null,
            "padding": null,
            "right": null,
            "top": null,
            "visibility": null,
            "width": null
          }
        },
        "275abbc43b1f4ef383982a0844e91576": {
          "model_module": "@jupyter-widgets/controls",
          "model_name": "DescriptionStyleModel",
          "model_module_version": "1.5.0",
          "state": {
            "_model_module": "@jupyter-widgets/controls",
            "_model_module_version": "1.5.0",
            "_model_name": "DescriptionStyleModel",
            "_view_count": null,
            "_view_module": "@jupyter-widgets/base",
            "_view_module_version": "1.2.0",
            "_view_name": "StyleView",
            "description_width": ""
          }
        },
        "bfd198779dbe41d7bac9cdd213b776b8": {
          "model_module": "@jupyter-widgets/controls",
          "model_name": "HBoxModel",
          "model_module_version": "1.5.0",
          "state": {
            "_dom_classes": [],
            "_model_module": "@jupyter-widgets/controls",
            "_model_module_version": "1.5.0",
            "_model_name": "HBoxModel",
            "_view_count": null,
            "_view_module": "@jupyter-widgets/controls",
            "_view_module_version": "1.5.0",
            "_view_name": "HBoxView",
            "box_style": "",
            "children": [
              "IPY_MODEL_25a2137de2c54c799d026c10fc80d318",
              "IPY_MODEL_df203e3d51524dbabaccc428ce320bcb",
              "IPY_MODEL_cb0df4c9531345e2ac30f8d08a9b6faf"
            ],
            "layout": "IPY_MODEL_b17f3756e0c74195a559c6fb235339ad"
          }
        },
        "25a2137de2c54c799d026c10fc80d318": {
          "model_module": "@jupyter-widgets/controls",
          "model_name": "HTMLModel",
          "model_module_version": "1.5.0",
          "state": {
            "_dom_classes": [],
            "_model_module": "@jupyter-widgets/controls",
            "_model_module_version": "1.5.0",
            "_model_name": "HTMLModel",
            "_view_count": null,
            "_view_module": "@jupyter-widgets/controls",
            "_view_module_version": "1.5.0",
            "_view_name": "HTMLView",
            "description": "",
            "description_tooltip": null,
            "layout": "IPY_MODEL_f977b437244d4eca9b8cfbee46cf384f",
            "placeholder": "​",
            "style": "IPY_MODEL_fae48cf3c30640e48b256b1006794819",
            "value": "Downloading pytorch_model.bin: 100%"
          }
        },
        "df203e3d51524dbabaccc428ce320bcb": {
          "model_module": "@jupyter-widgets/controls",
          "model_name": "FloatProgressModel",
          "model_module_version": "1.5.0",
          "state": {
            "_dom_classes": [],
            "_model_module": "@jupyter-widgets/controls",
            "_model_module_version": "1.5.0",
            "_model_name": "FloatProgressModel",
            "_view_count": null,
            "_view_module": "@jupyter-widgets/controls",
            "_view_module_version": "1.5.0",
            "_view_name": "ProgressView",
            "bar_style": "success",
            "description": "",
            "description_tooltip": null,
            "layout": "IPY_MODEL_1bf14f8e88b940528e6cc511dc876e80",
            "max": 1222317369,
            "min": 0,
            "orientation": "horizontal",
            "style": "IPY_MODEL_c060601dd8f84083b169ea54a945dcdc",
            "value": 1222317369
          }
        },
        "cb0df4c9531345e2ac30f8d08a9b6faf": {
          "model_module": "@jupyter-widgets/controls",
          "model_name": "HTMLModel",
          "model_module_version": "1.5.0",
          "state": {
            "_dom_classes": [],
            "_model_module": "@jupyter-widgets/controls",
            "_model_module_version": "1.5.0",
            "_model_name": "HTMLModel",
            "_view_count": null,
            "_view_module": "@jupyter-widgets/controls",
            "_view_module_version": "1.5.0",
            "_view_name": "HTMLView",
            "description": "",
            "description_tooltip": null,
            "layout": "IPY_MODEL_78ab42bf048c4d04965b4a6bcc5a55b9",
            "placeholder": "​",
            "style": "IPY_MODEL_e883a45f221241638e77cf98624e79ad",
            "value": " 1.22G/1.22G [00:32&lt;00:00, 59.1MB/s]"
          }
        },
        "b17f3756e0c74195a559c6fb235339ad": {
          "model_module": "@jupyter-widgets/base",
          "model_name": "LayoutModel",
          "model_module_version": "1.2.0",
          "state": {
            "_model_module": "@jupyter-widgets/base",
            "_model_module_version": "1.2.0",
            "_model_name": "LayoutModel",
            "_view_count": null,
            "_view_module": "@jupyter-widgets/base",
            "_view_module_version": "1.2.0",
            "_view_name": "LayoutView",
            "align_content": null,
            "align_items": null,
            "align_self": null,
            "border": null,
            "bottom": null,
            "display": null,
            "flex": null,
            "flex_flow": null,
            "grid_area": null,
            "grid_auto_columns": null,
            "grid_auto_flow": null,
            "grid_auto_rows": null,
            "grid_column": null,
            "grid_gap": null,
            "grid_row": null,
            "grid_template_areas": null,
            "grid_template_columns": null,
            "grid_template_rows": null,
            "height": null,
            "justify_content": null,
            "justify_items": null,
            "left": null,
            "margin": null,
            "max_height": null,
            "max_width": null,
            "min_height": null,
            "min_width": null,
            "object_fit": null,
            "object_position": null,
            "order": null,
            "overflow": null,
            "overflow_x": null,
            "overflow_y": null,
            "padding": null,
            "right": null,
            "top": null,
            "visibility": null,
            "width": null
          }
        },
        "f977b437244d4eca9b8cfbee46cf384f": {
          "model_module": "@jupyter-widgets/base",
          "model_name": "LayoutModel",
          "model_module_version": "1.2.0",
          "state": {
            "_model_module": "@jupyter-widgets/base",
            "_model_module_version": "1.2.0",
            "_model_name": "LayoutModel",
            "_view_count": null,
            "_view_module": "@jupyter-widgets/base",
            "_view_module_version": "1.2.0",
            "_view_name": "LayoutView",
            "align_content": null,
            "align_items": null,
            "align_self": null,
            "border": null,
            "bottom": null,
            "display": null,
            "flex": null,
            "flex_flow": null,
            "grid_area": null,
            "grid_auto_columns": null,
            "grid_auto_flow": null,
            "grid_auto_rows": null,
            "grid_column": null,
            "grid_gap": null,
            "grid_row": null,
            "grid_template_areas": null,
            "grid_template_columns": null,
            "grid_template_rows": null,
            "height": null,
            "justify_content": null,
            "justify_items": null,
            "left": null,
            "margin": null,
            "max_height": null,
            "max_width": null,
            "min_height": null,
            "min_width": null,
            "object_fit": null,
            "object_position": null,
            "order": null,
            "overflow": null,
            "overflow_x": null,
            "overflow_y": null,
            "padding": null,
            "right": null,
            "top": null,
            "visibility": null,
            "width": null
          }
        },
        "fae48cf3c30640e48b256b1006794819": {
          "model_module": "@jupyter-widgets/controls",
          "model_name": "DescriptionStyleModel",
          "model_module_version": "1.5.0",
          "state": {
            "_model_module": "@jupyter-widgets/controls",
            "_model_module_version": "1.5.0",
            "_model_name": "DescriptionStyleModel",
            "_view_count": null,
            "_view_module": "@jupyter-widgets/base",
            "_view_module_version": "1.2.0",
            "_view_name": "StyleView",
            "description_width": ""
          }
        },
        "1bf14f8e88b940528e6cc511dc876e80": {
          "model_module": "@jupyter-widgets/base",
          "model_name": "LayoutModel",
          "model_module_version": "1.2.0",
          "state": {
            "_model_module": "@jupyter-widgets/base",
            "_model_module_version": "1.2.0",
            "_model_name": "LayoutModel",
            "_view_count": null,
            "_view_module": "@jupyter-widgets/base",
            "_view_module_version": "1.2.0",
            "_view_name": "LayoutView",
            "align_content": null,
            "align_items": null,
            "align_self": null,
            "border": null,
            "bottom": null,
            "display": null,
            "flex": null,
            "flex_flow": null,
            "grid_area": null,
            "grid_auto_columns": null,
            "grid_auto_flow": null,
            "grid_auto_rows": null,
            "grid_column": null,
            "grid_gap": null,
            "grid_row": null,
            "grid_template_areas": null,
            "grid_template_columns": null,
            "grid_template_rows": null,
            "height": null,
            "justify_content": null,
            "justify_items": null,
            "left": null,
            "margin": null,
            "max_height": null,
            "max_width": null,
            "min_height": null,
            "min_width": null,
            "object_fit": null,
            "object_position": null,
            "order": null,
            "overflow": null,
            "overflow_x": null,
            "overflow_y": null,
            "padding": null,
            "right": null,
            "top": null,
            "visibility": null,
            "width": null
          }
        },
        "c060601dd8f84083b169ea54a945dcdc": {
          "model_module": "@jupyter-widgets/controls",
          "model_name": "ProgressStyleModel",
          "model_module_version": "1.5.0",
          "state": {
            "_model_module": "@jupyter-widgets/controls",
            "_model_module_version": "1.5.0",
            "_model_name": "ProgressStyleModel",
            "_view_count": null,
            "_view_module": "@jupyter-widgets/base",
            "_view_module_version": "1.2.0",
            "_view_name": "StyleView",
            "bar_color": null,
            "description_width": ""
          }
        },
        "78ab42bf048c4d04965b4a6bcc5a55b9": {
          "model_module": "@jupyter-widgets/base",
          "model_name": "LayoutModel",
          "model_module_version": "1.2.0",
          "state": {
            "_model_module": "@jupyter-widgets/base",
            "_model_module_version": "1.2.0",
            "_model_name": "LayoutModel",
            "_view_count": null,
            "_view_module": "@jupyter-widgets/base",
            "_view_module_version": "1.2.0",
            "_view_name": "LayoutView",
            "align_content": null,
            "align_items": null,
            "align_self": null,
            "border": null,
            "bottom": null,
            "display": null,
            "flex": null,
            "flex_flow": null,
            "grid_area": null,
            "grid_auto_columns": null,
            "grid_auto_flow": null,
            "grid_auto_rows": null,
            "grid_column": null,
            "grid_gap": null,
            "grid_row": null,
            "grid_template_areas": null,
            "grid_template_columns": null,
            "grid_template_rows": null,
            "height": null,
            "justify_content": null,
            "justify_items": null,
            "left": null,
            "margin": null,
            "max_height": null,
            "max_width": null,
            "min_height": null,
            "min_width": null,
            "object_fit": null,
            "object_position": null,
            "order": null,
            "overflow": null,
            "overflow_x": null,
            "overflow_y": null,
            "padding": null,
            "right": null,
            "top": null,
            "visibility": null,
            "width": null
          }
        },
        "e883a45f221241638e77cf98624e79ad": {
          "model_module": "@jupyter-widgets/controls",
          "model_name": "DescriptionStyleModel",
          "model_module_version": "1.5.0",
          "state": {
            "_model_module": "@jupyter-widgets/controls",
            "_model_module_version": "1.5.0",
            "_model_name": "DescriptionStyleModel",
            "_view_count": null,
            "_view_module": "@jupyter-widgets/base",
            "_view_module_version": "1.2.0",
            "_view_name": "StyleView",
            "description_width": ""
          }
        },
        "fdd2ba4fd7c24e3892133301acdbc396": {
          "model_module": "@jupyter-widgets/controls",
          "model_name": "HBoxModel",
          "model_module_version": "1.5.0",
          "state": {
            "_dom_classes": [],
            "_model_module": "@jupyter-widgets/controls",
            "_model_module_version": "1.5.0",
            "_model_name": "HBoxModel",
            "_view_count": null,
            "_view_module": "@jupyter-widgets/controls",
            "_view_module_version": "1.5.0",
            "_view_name": "HBoxView",
            "box_style": "",
            "children": [
              "IPY_MODEL_285b639fccc44de184d0e7140c7778e1",
              "IPY_MODEL_6a219792647040a6828e610012c066f9",
              "IPY_MODEL_a249364a80e64309a293e43508cbc132"
            ],
            "layout": "IPY_MODEL_af0cb47c9550488082149a70985b148d"
          }
        },
        "285b639fccc44de184d0e7140c7778e1": {
          "model_module": "@jupyter-widgets/controls",
          "model_name": "HTMLModel",
          "model_module_version": "1.5.0",
          "state": {
            "_dom_classes": [],
            "_model_module": "@jupyter-widgets/controls",
            "_model_module_version": "1.5.0",
            "_model_name": "HTMLModel",
            "_view_count": null,
            "_view_module": "@jupyter-widgets/controls",
            "_view_module_version": "1.5.0",
            "_view_name": "HTMLView",
            "description": "",
            "description_tooltip": null,
            "layout": "IPY_MODEL_67c5fe38b13c4402afe6d91a7bf1cf85",
            "placeholder": "​",
            "style": "IPY_MODEL_b7fb18b968e7410ebf36fe33ee57ab53",
            "value": "Downloading (…)okenizer_config.json: 100%"
          }
        },
        "6a219792647040a6828e610012c066f9": {
          "model_module": "@jupyter-widgets/controls",
          "model_name": "FloatProgressModel",
          "model_module_version": "1.5.0",
          "state": {
            "_dom_classes": [],
            "_model_module": "@jupyter-widgets/controls",
            "_model_module_version": "1.5.0",
            "_model_name": "FloatProgressModel",
            "_view_count": null,
            "_view_module": "@jupyter-widgets/controls",
            "_view_module_version": "1.5.0",
            "_view_name": "ProgressView",
            "bar_style": "success",
            "description": "",
            "description_tooltip": null,
            "layout": "IPY_MODEL_be0362c5f874439a93884fa91f287fd5",
            "max": 26,
            "min": 0,
            "orientation": "horizontal",
            "style": "IPY_MODEL_e95d78499cb143948453fadc9d02dc19",
            "value": 26
          }
        },
        "a249364a80e64309a293e43508cbc132": {
          "model_module": "@jupyter-widgets/controls",
          "model_name": "HTMLModel",
          "model_module_version": "1.5.0",
          "state": {
            "_dom_classes": [],
            "_model_module": "@jupyter-widgets/controls",
            "_model_module_version": "1.5.0",
            "_model_name": "HTMLModel",
            "_view_count": null,
            "_view_module": "@jupyter-widgets/controls",
            "_view_module_version": "1.5.0",
            "_view_name": "HTMLView",
            "description": "",
            "description_tooltip": null,
            "layout": "IPY_MODEL_9eb49ba5ab9c4a7b8afc82525135835e",
            "placeholder": "​",
            "style": "IPY_MODEL_6124fc2ee8f94e5190efd8f66d6aefd7",
            "value": " 26.0/26.0 [00:00&lt;00:00, 1.32kB/s]"
          }
        },
        "af0cb47c9550488082149a70985b148d": {
          "model_module": "@jupyter-widgets/base",
          "model_name": "LayoutModel",
          "model_module_version": "1.2.0",
          "state": {
            "_model_module": "@jupyter-widgets/base",
            "_model_module_version": "1.2.0",
            "_model_name": "LayoutModel",
            "_view_count": null,
            "_view_module": "@jupyter-widgets/base",
            "_view_module_version": "1.2.0",
            "_view_name": "LayoutView",
            "align_content": null,
            "align_items": null,
            "align_self": null,
            "border": null,
            "bottom": null,
            "display": null,
            "flex": null,
            "flex_flow": null,
            "grid_area": null,
            "grid_auto_columns": null,
            "grid_auto_flow": null,
            "grid_auto_rows": null,
            "grid_column": null,
            "grid_gap": null,
            "grid_row": null,
            "grid_template_areas": null,
            "grid_template_columns": null,
            "grid_template_rows": null,
            "height": null,
            "justify_content": null,
            "justify_items": null,
            "left": null,
            "margin": null,
            "max_height": null,
            "max_width": null,
            "min_height": null,
            "min_width": null,
            "object_fit": null,
            "object_position": null,
            "order": null,
            "overflow": null,
            "overflow_x": null,
            "overflow_y": null,
            "padding": null,
            "right": null,
            "top": null,
            "visibility": null,
            "width": null
          }
        },
        "67c5fe38b13c4402afe6d91a7bf1cf85": {
          "model_module": "@jupyter-widgets/base",
          "model_name": "LayoutModel",
          "model_module_version": "1.2.0",
          "state": {
            "_model_module": "@jupyter-widgets/base",
            "_model_module_version": "1.2.0",
            "_model_name": "LayoutModel",
            "_view_count": null,
            "_view_module": "@jupyter-widgets/base",
            "_view_module_version": "1.2.0",
            "_view_name": "LayoutView",
            "align_content": null,
            "align_items": null,
            "align_self": null,
            "border": null,
            "bottom": null,
            "display": null,
            "flex": null,
            "flex_flow": null,
            "grid_area": null,
            "grid_auto_columns": null,
            "grid_auto_flow": null,
            "grid_auto_rows": null,
            "grid_column": null,
            "grid_gap": null,
            "grid_row": null,
            "grid_template_areas": null,
            "grid_template_columns": null,
            "grid_template_rows": null,
            "height": null,
            "justify_content": null,
            "justify_items": null,
            "left": null,
            "margin": null,
            "max_height": null,
            "max_width": null,
            "min_height": null,
            "min_width": null,
            "object_fit": null,
            "object_position": null,
            "order": null,
            "overflow": null,
            "overflow_x": null,
            "overflow_y": null,
            "padding": null,
            "right": null,
            "top": null,
            "visibility": null,
            "width": null
          }
        },
        "b7fb18b968e7410ebf36fe33ee57ab53": {
          "model_module": "@jupyter-widgets/controls",
          "model_name": "DescriptionStyleModel",
          "model_module_version": "1.5.0",
          "state": {
            "_model_module": "@jupyter-widgets/controls",
            "_model_module_version": "1.5.0",
            "_model_name": "DescriptionStyleModel",
            "_view_count": null,
            "_view_module": "@jupyter-widgets/base",
            "_view_module_version": "1.2.0",
            "_view_name": "StyleView",
            "description_width": ""
          }
        },
        "be0362c5f874439a93884fa91f287fd5": {
          "model_module": "@jupyter-widgets/base",
          "model_name": "LayoutModel",
          "model_module_version": "1.2.0",
          "state": {
            "_model_module": "@jupyter-widgets/base",
            "_model_module_version": "1.2.0",
            "_model_name": "LayoutModel",
            "_view_count": null,
            "_view_module": "@jupyter-widgets/base",
            "_view_module_version": "1.2.0",
            "_view_name": "LayoutView",
            "align_content": null,
            "align_items": null,
            "align_self": null,
            "border": null,
            "bottom": null,
            "display": null,
            "flex": null,
            "flex_flow": null,
            "grid_area": null,
            "grid_auto_columns": null,
            "grid_auto_flow": null,
            "grid_auto_rows": null,
            "grid_column": null,
            "grid_gap": null,
            "grid_row": null,
            "grid_template_areas": null,
            "grid_template_columns": null,
            "grid_template_rows": null,
            "height": null,
            "justify_content": null,
            "justify_items": null,
            "left": null,
            "margin": null,
            "max_height": null,
            "max_width": null,
            "min_height": null,
            "min_width": null,
            "object_fit": null,
            "object_position": null,
            "order": null,
            "overflow": null,
            "overflow_x": null,
            "overflow_y": null,
            "padding": null,
            "right": null,
            "top": null,
            "visibility": null,
            "width": null
          }
        },
        "e95d78499cb143948453fadc9d02dc19": {
          "model_module": "@jupyter-widgets/controls",
          "model_name": "ProgressStyleModel",
          "model_module_version": "1.5.0",
          "state": {
            "_model_module": "@jupyter-widgets/controls",
            "_model_module_version": "1.5.0",
            "_model_name": "ProgressStyleModel",
            "_view_count": null,
            "_view_module": "@jupyter-widgets/base",
            "_view_module_version": "1.2.0",
            "_view_name": "StyleView",
            "bar_color": null,
            "description_width": ""
          }
        },
        "9eb49ba5ab9c4a7b8afc82525135835e": {
          "model_module": "@jupyter-widgets/base",
          "model_name": "LayoutModel",
          "model_module_version": "1.2.0",
          "state": {
            "_model_module": "@jupyter-widgets/base",
            "_model_module_version": "1.2.0",
            "_model_name": "LayoutModel",
            "_view_count": null,
            "_view_module": "@jupyter-widgets/base",
            "_view_module_version": "1.2.0",
            "_view_name": "LayoutView",
            "align_content": null,
            "align_items": null,
            "align_self": null,
            "border": null,
            "bottom": null,
            "display": null,
            "flex": null,
            "flex_flow": null,
            "grid_area": null,
            "grid_auto_columns": null,
            "grid_auto_flow": null,
            "grid_auto_rows": null,
            "grid_column": null,
            "grid_gap": null,
            "grid_row": null,
            "grid_template_areas": null,
            "grid_template_columns": null,
            "grid_template_rows": null,
            "height": null,
            "justify_content": null,
            "justify_items": null,
            "left": null,
            "margin": null,
            "max_height": null,
            "max_width": null,
            "min_height": null,
            "min_width": null,
            "object_fit": null,
            "object_position": null,
            "order": null,
            "overflow": null,
            "overflow_x": null,
            "overflow_y": null,
            "padding": null,
            "right": null,
            "top": null,
            "visibility": null,
            "width": null
          }
        },
        "6124fc2ee8f94e5190efd8f66d6aefd7": {
          "model_module": "@jupyter-widgets/controls",
          "model_name": "DescriptionStyleModel",
          "model_module_version": "1.5.0",
          "state": {
            "_model_module": "@jupyter-widgets/controls",
            "_model_module_version": "1.5.0",
            "_model_name": "DescriptionStyleModel",
            "_view_count": null,
            "_view_module": "@jupyter-widgets/base",
            "_view_module_version": "1.2.0",
            "_view_name": "StyleView",
            "description_width": ""
          }
        },
        "9465f79994b64c5586aed29781f639b0": {
          "model_module": "@jupyter-widgets/controls",
          "model_name": "HBoxModel",
          "model_module_version": "1.5.0",
          "state": {
            "_dom_classes": [],
            "_model_module": "@jupyter-widgets/controls",
            "_model_module_version": "1.5.0",
            "_model_name": "HBoxModel",
            "_view_count": null,
            "_view_module": "@jupyter-widgets/controls",
            "_view_module_version": "1.5.0",
            "_view_name": "HBoxView",
            "box_style": "",
            "children": [
              "IPY_MODEL_5a6217b6644047d1ac4a0d0464ebe5e8",
              "IPY_MODEL_5192276627594a0faf09f90aadda48d5",
              "IPY_MODEL_39dcf14c24c5453dabe833d141e6c835"
            ],
            "layout": "IPY_MODEL_d872facb03954e5b9e29f68615a1d41b"
          }
        },
        "5a6217b6644047d1ac4a0d0464ebe5e8": {
          "model_module": "@jupyter-widgets/controls",
          "model_name": "HTMLModel",
          "model_module_version": "1.5.0",
          "state": {
            "_dom_classes": [],
            "_model_module": "@jupyter-widgets/controls",
            "_model_module_version": "1.5.0",
            "_model_name": "HTMLModel",
            "_view_count": null,
            "_view_module": "@jupyter-widgets/controls",
            "_view_module_version": "1.5.0",
            "_view_name": "HTMLView",
            "description": "",
            "description_tooltip": null,
            "layout": "IPY_MODEL_c5e1413fc43049d9a0e4a4069ffcf3cd",
            "placeholder": "​",
            "style": "IPY_MODEL_fd432ae1ce114bf3a6d422e1ff828803",
            "value": "Downloading (…)olve/main/vocab.json: 100%"
          }
        },
        "5192276627594a0faf09f90aadda48d5": {
          "model_module": "@jupyter-widgets/controls",
          "model_name": "FloatProgressModel",
          "model_module_version": "1.5.0",
          "state": {
            "_dom_classes": [],
            "_model_module": "@jupyter-widgets/controls",
            "_model_module_version": "1.5.0",
            "_model_name": "FloatProgressModel",
            "_view_count": null,
            "_view_module": "@jupyter-widgets/controls",
            "_view_module_version": "1.5.0",
            "_view_name": "ProgressView",
            "bar_style": "success",
            "description": "",
            "description_tooltip": null,
            "layout": "IPY_MODEL_4c27e62ad89e4b25a72ea10dddb74036",
            "max": 898822,
            "min": 0,
            "orientation": "horizontal",
            "style": "IPY_MODEL_f73a42bc446d427bb056d092a956912a",
            "value": 898822
          }
        },
        "39dcf14c24c5453dabe833d141e6c835": {
          "model_module": "@jupyter-widgets/controls",
          "model_name": "HTMLModel",
          "model_module_version": "1.5.0",
          "state": {
            "_dom_classes": [],
            "_model_module": "@jupyter-widgets/controls",
            "_model_module_version": "1.5.0",
            "_model_name": "HTMLModel",
            "_view_count": null,
            "_view_module": "@jupyter-widgets/controls",
            "_view_module_version": "1.5.0",
            "_view_name": "HTMLView",
            "description": "",
            "description_tooltip": null,
            "layout": "IPY_MODEL_3b8859fe299c4c0ea3ad3e1e3e25aaf4",
            "placeholder": "​",
            "style": "IPY_MODEL_a5e00c7cf4d04375b5600c3224f4c09d",
            "value": " 899k/899k [00:00&lt;00:00, 7.16MB/s]"
          }
        },
        "d872facb03954e5b9e29f68615a1d41b": {
          "model_module": "@jupyter-widgets/base",
          "model_name": "LayoutModel",
          "model_module_version": "1.2.0",
          "state": {
            "_model_module": "@jupyter-widgets/base",
            "_model_module_version": "1.2.0",
            "_model_name": "LayoutModel",
            "_view_count": null,
            "_view_module": "@jupyter-widgets/base",
            "_view_module_version": "1.2.0",
            "_view_name": "LayoutView",
            "align_content": null,
            "align_items": null,
            "align_self": null,
            "border": null,
            "bottom": null,
            "display": null,
            "flex": null,
            "flex_flow": null,
            "grid_area": null,
            "grid_auto_columns": null,
            "grid_auto_flow": null,
            "grid_auto_rows": null,
            "grid_column": null,
            "grid_gap": null,
            "grid_row": null,
            "grid_template_areas": null,
            "grid_template_columns": null,
            "grid_template_rows": null,
            "height": null,
            "justify_content": null,
            "justify_items": null,
            "left": null,
            "margin": null,
            "max_height": null,
            "max_width": null,
            "min_height": null,
            "min_width": null,
            "object_fit": null,
            "object_position": null,
            "order": null,
            "overflow": null,
            "overflow_x": null,
            "overflow_y": null,
            "padding": null,
            "right": null,
            "top": null,
            "visibility": null,
            "width": null
          }
        },
        "c5e1413fc43049d9a0e4a4069ffcf3cd": {
          "model_module": "@jupyter-widgets/base",
          "model_name": "LayoutModel",
          "model_module_version": "1.2.0",
          "state": {
            "_model_module": "@jupyter-widgets/base",
            "_model_module_version": "1.2.0",
            "_model_name": "LayoutModel",
            "_view_count": null,
            "_view_module": "@jupyter-widgets/base",
            "_view_module_version": "1.2.0",
            "_view_name": "LayoutView",
            "align_content": null,
            "align_items": null,
            "align_self": null,
            "border": null,
            "bottom": null,
            "display": null,
            "flex": null,
            "flex_flow": null,
            "grid_area": null,
            "grid_auto_columns": null,
            "grid_auto_flow": null,
            "grid_auto_rows": null,
            "grid_column": null,
            "grid_gap": null,
            "grid_row": null,
            "grid_template_areas": null,
            "grid_template_columns": null,
            "grid_template_rows": null,
            "height": null,
            "justify_content": null,
            "justify_items": null,
            "left": null,
            "margin": null,
            "max_height": null,
            "max_width": null,
            "min_height": null,
            "min_width": null,
            "object_fit": null,
            "object_position": null,
            "order": null,
            "overflow": null,
            "overflow_x": null,
            "overflow_y": null,
            "padding": null,
            "right": null,
            "top": null,
            "visibility": null,
            "width": null
          }
        },
        "fd432ae1ce114bf3a6d422e1ff828803": {
          "model_module": "@jupyter-widgets/controls",
          "model_name": "DescriptionStyleModel",
          "model_module_version": "1.5.0",
          "state": {
            "_model_module": "@jupyter-widgets/controls",
            "_model_module_version": "1.5.0",
            "_model_name": "DescriptionStyleModel",
            "_view_count": null,
            "_view_module": "@jupyter-widgets/base",
            "_view_module_version": "1.2.0",
            "_view_name": "StyleView",
            "description_width": ""
          }
        },
        "4c27e62ad89e4b25a72ea10dddb74036": {
          "model_module": "@jupyter-widgets/base",
          "model_name": "LayoutModel",
          "model_module_version": "1.2.0",
          "state": {
            "_model_module": "@jupyter-widgets/base",
            "_model_module_version": "1.2.0",
            "_model_name": "LayoutModel",
            "_view_count": null,
            "_view_module": "@jupyter-widgets/base",
            "_view_module_version": "1.2.0",
            "_view_name": "LayoutView",
            "align_content": null,
            "align_items": null,
            "align_self": null,
            "border": null,
            "bottom": null,
            "display": null,
            "flex": null,
            "flex_flow": null,
            "grid_area": null,
            "grid_auto_columns": null,
            "grid_auto_flow": null,
            "grid_auto_rows": null,
            "grid_column": null,
            "grid_gap": null,
            "grid_row": null,
            "grid_template_areas": null,
            "grid_template_columns": null,
            "grid_template_rows": null,
            "height": null,
            "justify_content": null,
            "justify_items": null,
            "left": null,
            "margin": null,
            "max_height": null,
            "max_width": null,
            "min_height": null,
            "min_width": null,
            "object_fit": null,
            "object_position": null,
            "order": null,
            "overflow": null,
            "overflow_x": null,
            "overflow_y": null,
            "padding": null,
            "right": null,
            "top": null,
            "visibility": null,
            "width": null
          }
        },
        "f73a42bc446d427bb056d092a956912a": {
          "model_module": "@jupyter-widgets/controls",
          "model_name": "ProgressStyleModel",
          "model_module_version": "1.5.0",
          "state": {
            "_model_module": "@jupyter-widgets/controls",
            "_model_module_version": "1.5.0",
            "_model_name": "ProgressStyleModel",
            "_view_count": null,
            "_view_module": "@jupyter-widgets/base",
            "_view_module_version": "1.2.0",
            "_view_name": "StyleView",
            "bar_color": null,
            "description_width": ""
          }
        },
        "3b8859fe299c4c0ea3ad3e1e3e25aaf4": {
          "model_module": "@jupyter-widgets/base",
          "model_name": "LayoutModel",
          "model_module_version": "1.2.0",
          "state": {
            "_model_module": "@jupyter-widgets/base",
            "_model_module_version": "1.2.0",
            "_model_name": "LayoutModel",
            "_view_count": null,
            "_view_module": "@jupyter-widgets/base",
            "_view_module_version": "1.2.0",
            "_view_name": "LayoutView",
            "align_content": null,
            "align_items": null,
            "align_self": null,
            "border": null,
            "bottom": null,
            "display": null,
            "flex": null,
            "flex_flow": null,
            "grid_area": null,
            "grid_auto_columns": null,
            "grid_auto_flow": null,
            "grid_auto_rows": null,
            "grid_column": null,
            "grid_gap": null,
            "grid_row": null,
            "grid_template_areas": null,
            "grid_template_columns": null,
            "grid_template_rows": null,
            "height": null,
            "justify_content": null,
            "justify_items": null,
            "left": null,
            "margin": null,
            "max_height": null,
            "max_width": null,
            "min_height": null,
            "min_width": null,
            "object_fit": null,
            "object_position": null,
            "order": null,
            "overflow": null,
            "overflow_x": null,
            "overflow_y": null,
            "padding": null,
            "right": null,
            "top": null,
            "visibility": null,
            "width": null
          }
        },
        "a5e00c7cf4d04375b5600c3224f4c09d": {
          "model_module": "@jupyter-widgets/controls",
          "model_name": "DescriptionStyleModel",
          "model_module_version": "1.5.0",
          "state": {
            "_model_module": "@jupyter-widgets/controls",
            "_model_module_version": "1.5.0",
            "_model_name": "DescriptionStyleModel",
            "_view_count": null,
            "_view_module": "@jupyter-widgets/base",
            "_view_module_version": "1.2.0",
            "_view_name": "StyleView",
            "description_width": ""
          }
        },
        "21b40a6bea8e4bf1af7d4a6f9e11a3fb": {
          "model_module": "@jupyter-widgets/controls",
          "model_name": "HBoxModel",
          "model_module_version": "1.5.0",
          "state": {
            "_dom_classes": [],
            "_model_module": "@jupyter-widgets/controls",
            "_model_module_version": "1.5.0",
            "_model_name": "HBoxModel",
            "_view_count": null,
            "_view_module": "@jupyter-widgets/controls",
            "_view_module_version": "1.5.0",
            "_view_name": "HBoxView",
            "box_style": "",
            "children": [
              "IPY_MODEL_19fd5495c1bd4236843a00f17ead3f97",
              "IPY_MODEL_239999e018f74fef8b3a601495b31f1e",
              "IPY_MODEL_09f99cda62504d5d8326dc01265a8ba1"
            ],
            "layout": "IPY_MODEL_501d0edeb97242329050699c88cf1088"
          }
        },
        "19fd5495c1bd4236843a00f17ead3f97": {
          "model_module": "@jupyter-widgets/controls",
          "model_name": "HTMLModel",
          "model_module_version": "1.5.0",
          "state": {
            "_dom_classes": [],
            "_model_module": "@jupyter-widgets/controls",
            "_model_module_version": "1.5.0",
            "_model_name": "HTMLModel",
            "_view_count": null,
            "_view_module": "@jupyter-widgets/controls",
            "_view_module_version": "1.5.0",
            "_view_name": "HTMLView",
            "description": "",
            "description_tooltip": null,
            "layout": "IPY_MODEL_ab919752a90f4380bd19b09c303a7e5e",
            "placeholder": "​",
            "style": "IPY_MODEL_2121c25ef5f64f1f816fd4bba7ffedf0",
            "value": "Downloading (…)olve/main/merges.txt: 100%"
          }
        },
        "239999e018f74fef8b3a601495b31f1e": {
          "model_module": "@jupyter-widgets/controls",
          "model_name": "FloatProgressModel",
          "model_module_version": "1.5.0",
          "state": {
            "_dom_classes": [],
            "_model_module": "@jupyter-widgets/controls",
            "_model_module_version": "1.5.0",
            "_model_name": "FloatProgressModel",
            "_view_count": null,
            "_view_module": "@jupyter-widgets/controls",
            "_view_module_version": "1.5.0",
            "_view_name": "ProgressView",
            "bar_style": "success",
            "description": "",
            "description_tooltip": null,
            "layout": "IPY_MODEL_116fd52490654525bb9da7e797233c98",
            "max": 456318,
            "min": 0,
            "orientation": "horizontal",
            "style": "IPY_MODEL_f9740eceb9f4407aa2b97af0aa9c99a5",
            "value": 456318
          }
        },
        "09f99cda62504d5d8326dc01265a8ba1": {
          "model_module": "@jupyter-widgets/controls",
          "model_name": "HTMLModel",
          "model_module_version": "1.5.0",
          "state": {
            "_dom_classes": [],
            "_model_module": "@jupyter-widgets/controls",
            "_model_module_version": "1.5.0",
            "_model_name": "HTMLModel",
            "_view_count": null,
            "_view_module": "@jupyter-widgets/controls",
            "_view_module_version": "1.5.0",
            "_view_name": "HTMLView",
            "description": "",
            "description_tooltip": null,
            "layout": "IPY_MODEL_c3d9edb94f0f4b6ba63cba23d3312f13",
            "placeholder": "​",
            "style": "IPY_MODEL_b4fe63e1670c4f508e0be75e3d689d3c",
            "value": " 456k/456k [00:00&lt;00:00, 5.95MB/s]"
          }
        },
        "501d0edeb97242329050699c88cf1088": {
          "model_module": "@jupyter-widgets/base",
          "model_name": "LayoutModel",
          "model_module_version": "1.2.0",
          "state": {
            "_model_module": "@jupyter-widgets/base",
            "_model_module_version": "1.2.0",
            "_model_name": "LayoutModel",
            "_view_count": null,
            "_view_module": "@jupyter-widgets/base",
            "_view_module_version": "1.2.0",
            "_view_name": "LayoutView",
            "align_content": null,
            "align_items": null,
            "align_self": null,
            "border": null,
            "bottom": null,
            "display": null,
            "flex": null,
            "flex_flow": null,
            "grid_area": null,
            "grid_auto_columns": null,
            "grid_auto_flow": null,
            "grid_auto_rows": null,
            "grid_column": null,
            "grid_gap": null,
            "grid_row": null,
            "grid_template_areas": null,
            "grid_template_columns": null,
            "grid_template_rows": null,
            "height": null,
            "justify_content": null,
            "justify_items": null,
            "left": null,
            "margin": null,
            "max_height": null,
            "max_width": null,
            "min_height": null,
            "min_width": null,
            "object_fit": null,
            "object_position": null,
            "order": null,
            "overflow": null,
            "overflow_x": null,
            "overflow_y": null,
            "padding": null,
            "right": null,
            "top": null,
            "visibility": null,
            "width": null
          }
        },
        "ab919752a90f4380bd19b09c303a7e5e": {
          "model_module": "@jupyter-widgets/base",
          "model_name": "LayoutModel",
          "model_module_version": "1.2.0",
          "state": {
            "_model_module": "@jupyter-widgets/base",
            "_model_module_version": "1.2.0",
            "_model_name": "LayoutModel",
            "_view_count": null,
            "_view_module": "@jupyter-widgets/base",
            "_view_module_version": "1.2.0",
            "_view_name": "LayoutView",
            "align_content": null,
            "align_items": null,
            "align_self": null,
            "border": null,
            "bottom": null,
            "display": null,
            "flex": null,
            "flex_flow": null,
            "grid_area": null,
            "grid_auto_columns": null,
            "grid_auto_flow": null,
            "grid_auto_rows": null,
            "grid_column": null,
            "grid_gap": null,
            "grid_row": null,
            "grid_template_areas": null,
            "grid_template_columns": null,
            "grid_template_rows": null,
            "height": null,
            "justify_content": null,
            "justify_items": null,
            "left": null,
            "margin": null,
            "max_height": null,
            "max_width": null,
            "min_height": null,
            "min_width": null,
            "object_fit": null,
            "object_position": null,
            "order": null,
            "overflow": null,
            "overflow_x": null,
            "overflow_y": null,
            "padding": null,
            "right": null,
            "top": null,
            "visibility": null,
            "width": null
          }
        },
        "2121c25ef5f64f1f816fd4bba7ffedf0": {
          "model_module": "@jupyter-widgets/controls",
          "model_name": "DescriptionStyleModel",
          "model_module_version": "1.5.0",
          "state": {
            "_model_module": "@jupyter-widgets/controls",
            "_model_module_version": "1.5.0",
            "_model_name": "DescriptionStyleModel",
            "_view_count": null,
            "_view_module": "@jupyter-widgets/base",
            "_view_module_version": "1.2.0",
            "_view_name": "StyleView",
            "description_width": ""
          }
        },
        "116fd52490654525bb9da7e797233c98": {
          "model_module": "@jupyter-widgets/base",
          "model_name": "LayoutModel",
          "model_module_version": "1.2.0",
          "state": {
            "_model_module": "@jupyter-widgets/base",
            "_model_module_version": "1.2.0",
            "_model_name": "LayoutModel",
            "_view_count": null,
            "_view_module": "@jupyter-widgets/base",
            "_view_module_version": "1.2.0",
            "_view_name": "LayoutView",
            "align_content": null,
            "align_items": null,
            "align_self": null,
            "border": null,
            "bottom": null,
            "display": null,
            "flex": null,
            "flex_flow": null,
            "grid_area": null,
            "grid_auto_columns": null,
            "grid_auto_flow": null,
            "grid_auto_rows": null,
            "grid_column": null,
            "grid_gap": null,
            "grid_row": null,
            "grid_template_areas": null,
            "grid_template_columns": null,
            "grid_template_rows": null,
            "height": null,
            "justify_content": null,
            "justify_items": null,
            "left": null,
            "margin": null,
            "max_height": null,
            "max_width": null,
            "min_height": null,
            "min_width": null,
            "object_fit": null,
            "object_position": null,
            "order": null,
            "overflow": null,
            "overflow_x": null,
            "overflow_y": null,
            "padding": null,
            "right": null,
            "top": null,
            "visibility": null,
            "width": null
          }
        },
        "f9740eceb9f4407aa2b97af0aa9c99a5": {
          "model_module": "@jupyter-widgets/controls",
          "model_name": "ProgressStyleModel",
          "model_module_version": "1.5.0",
          "state": {
            "_model_module": "@jupyter-widgets/controls",
            "_model_module_version": "1.5.0",
            "_model_name": "ProgressStyleModel",
            "_view_count": null,
            "_view_module": "@jupyter-widgets/base",
            "_view_module_version": "1.2.0",
            "_view_name": "StyleView",
            "bar_color": null,
            "description_width": ""
          }
        },
        "c3d9edb94f0f4b6ba63cba23d3312f13": {
          "model_module": "@jupyter-widgets/base",
          "model_name": "LayoutModel",
          "model_module_version": "1.2.0",
          "state": {
            "_model_module": "@jupyter-widgets/base",
            "_model_module_version": "1.2.0",
            "_model_name": "LayoutModel",
            "_view_count": null,
            "_view_module": "@jupyter-widgets/base",
            "_view_module_version": "1.2.0",
            "_view_name": "LayoutView",
            "align_content": null,
            "align_items": null,
            "align_self": null,
            "border": null,
            "bottom": null,
            "display": null,
            "flex": null,
            "flex_flow": null,
            "grid_area": null,
            "grid_auto_columns": null,
            "grid_auto_flow": null,
            "grid_auto_rows": null,
            "grid_column": null,
            "grid_gap": null,
            "grid_row": null,
            "grid_template_areas": null,
            "grid_template_columns": null,
            "grid_template_rows": null,
            "height": null,
            "justify_content": null,
            "justify_items": null,
            "left": null,
            "margin": null,
            "max_height": null,
            "max_width": null,
            "min_height": null,
            "min_width": null,
            "object_fit": null,
            "object_position": null,
            "order": null,
            "overflow": null,
            "overflow_x": null,
            "overflow_y": null,
            "padding": null,
            "right": null,
            "top": null,
            "visibility": null,
            "width": null
          }
        },
        "b4fe63e1670c4f508e0be75e3d689d3c": {
          "model_module": "@jupyter-widgets/controls",
          "model_name": "DescriptionStyleModel",
          "model_module_version": "1.5.0",
          "state": {
            "_model_module": "@jupyter-widgets/controls",
            "_model_module_version": "1.5.0",
            "_model_name": "DescriptionStyleModel",
            "_view_count": null,
            "_view_module": "@jupyter-widgets/base",
            "_view_module_version": "1.2.0",
            "_view_name": "StyleView",
            "description_width": ""
          }
        }
      }
    }
  },
  "cells": [
    {
      "cell_type": "code",
      "execution_count": null,
      "metadata": {
        "colab": {
          "base_uri": "https://localhost:8080/"
        },
        "id": "WfAK_gG1K5mm",
        "outputId": "6a7d961b-3743-47e8-ff67-fab7bced9339"
      },
      "outputs": [
        {
          "output_type": "stream",
          "name": "stdout",
          "text": [
            "\u001b[2K     \u001b[90m━━━━━━━━━━━━━━━━━━━━━━━━━━━━━━━━━━━━━━━━\u001b[0m \u001b[32m7.2/7.2 MB\u001b[0m \u001b[31m40.7 MB/s\u001b[0m eta \u001b[36m0:00:00\u001b[0m\n",
            "\u001b[2K     \u001b[90m━━━━━━━━━━━━━━━━━━━━━━━━━━━━━━━━━━━━━━\u001b[0m \u001b[32m236.8/236.8 kB\u001b[0m \u001b[31m16.3 MB/s\u001b[0m eta \u001b[36m0:00:00\u001b[0m\n",
            "\u001b[2K     \u001b[90m━━━━━━━━━━━━━━━━━━━━━━━━━━━━━━━━━━━━━━━━\u001b[0m \u001b[32m7.8/7.8 MB\u001b[0m \u001b[31m43.0 MB/s\u001b[0m eta \u001b[36m0:00:00\u001b[0m\n",
            "\u001b[2K     \u001b[90m━━━━━━━━━━━━━━━━━━━━━━━━━━━━━━━━━━━━━━━━\u001b[0m \u001b[32m1.3/1.3 MB\u001b[0m \u001b[31m60.1 MB/s\u001b[0m eta \u001b[36m0:00:00\u001b[0m\n",
            "\u001b[?25h"
          ]
        }
      ],
      "source": [
        "!pip install -q transformers"
      ]
    },
    {
      "cell_type": "code",
      "source": [
        "!pip install -q youtube_transcript_api"
      ],
      "metadata": {
        "id": "2oxDbDYtLGOj"
      },
      "execution_count": null,
      "outputs": []
    },
    {
      "cell_type": "code",
      "source": [
        "from transformers import pipeline\n",
        "from youtube_transcript_api import YouTubeTranscriptApi"
      ],
      "metadata": {
        "id": "0qnzZiOXLQPQ"
      },
      "execution_count": null,
      "outputs": []
    },
    {
      "cell_type": "code",
      "source": [
        "youtube_video = \"https://www.youtube.com/watch?v=mAQCC_AYPa8\""
      ],
      "metadata": {
        "id": "Xa7qjwU8LZEW"
      },
      "execution_count": null,
      "outputs": []
    },
    {
      "cell_type": "code",
      "source": [
        "video_id = youtube_video.split(\"=\")[1]"
      ],
      "metadata": {
        "id": "oC6bYe3KLfYT"
      },
      "execution_count": null,
      "outputs": []
    },
    {
      "cell_type": "code",
      "source": [
        "video_id"
      ],
      "metadata": {
        "colab": {
          "base_uri": "https://localhost:8080/",
          "height": 35
        },
        "id": "DVZqQWotLsL7",
        "outputId": "f79c0533-1a64-45d8-9d73-530e7c2b266d"
      },
      "execution_count": null,
      "outputs": [
        {
          "output_type": "execute_result",
          "data": {
            "text/plain": [
              "'mAQCC_AYPa8'"
            ],
            "application/vnd.google.colaboratory.intrinsic+json": {
              "type": "string"
            }
          },
          "metadata": {},
          "execution_count": 6
        }
      ]
    },
    {
      "cell_type": "code",
      "source": [
        "from IPython.display import YouTubeVideo\n",
        "YouTubeVideo(video_id)"
      ],
      "metadata": {
        "colab": {
          "base_uri": "https://localhost:8080/",
          "height": 321
        },
        "id": "xEu_rKZ7LvC4",
        "outputId": "97a8a9bd-edfe-4b69-e9f6-315aad139531"
      },
      "execution_count": null,
      "outputs": [
        {
          "output_type": "execute_result",
          "data": {
            "text/plain": [
              "<IPython.lib.display.YouTubeVideo at 0x7f47240fbf40>"
            ],
            "text/html": [
              "\n",
              "        <iframe\n",
              "            width=\"400\"\n",
              "            height=\"300\"\n",
              "            src=\"https://www.youtube.com/embed/mAQCC_AYPa8\"\n",
              "            frameborder=\"0\"\n",
              "            allowfullscreen\n",
              "            \n",
              "        ></iframe>\n",
              "        "
            ],
            "image/jpeg": "[encoded data removed]"
          },
          "metadata": {},
          "execution_count": 7
        }
      ]
    },
    {
      "cell_type": "code",
      "source": [
        "YouTubeTranscriptApi.get_transcript(video_id)\n",
        "transcript = YouTubeTranscriptApi.get_transcript(video_id)"
      ],
      "metadata": {
        "id": "1PT9B3ECLwxb"
      },
      "execution_count": null,
      "outputs": []
    },
    {
      "cell_type": "code",
      "source": [
        "transcript[0:5]"
      ],
      "metadata": {
        "colab": {
          "base_uri": "https://localhost:8080/"
        },
        "id": "HisDgBgPMsv5",
        "outputId": "dbd761a8-dca0-46f9-9e71-952a9004dfe3"
      },
      "execution_count": null,
      "outputs": [
        {
          "output_type": "execute_result",
          "data": {
            "text/plain": [
              "[{'text': '[Music]', 'start': 2.05, 'duration': 6.829},\n",
              " {'text': \"hello I'm Rudra not Sanyal welcome to\",\n",
              "  'start': 9.86,\n",
              "  'duration': 5.319},\n",
              " {'text': 'war and peace your go-to program on',\n",
              "  'start': 13.23,\n",
              "  'duration': 4.59},\n",
              " {'text': 'security matters and geopolitics once',\n",
              "  'start': 15.179,\n",
              "  'duration': 5.01},\n",
              " {'text': 'again we thank all our viewers who keep',\n",
              "  'start': 17.82,\n",
              "  'duration': 4.949}]"
            ]
          },
          "metadata": {},
          "execution_count": 9
        }
      ]
    },
    {
      "cell_type": "code",
      "source": [
        "result = \"\"\n",
        "for i in transcript:\n",
        "    result += ' ' + i['text']\n",
        "#print(result)\n",
        "print(len(result))"
      ],
      "metadata": {
        "colab": {
          "base_uri": "https://localhost:8080/"
        },
        "id": "6uDD1dp-MvOR",
        "outputId": "e1861c0a-6dda-4bda-8cc2-8edc7c7b7815"
      },
      "execution_count": null,
      "outputs": [
        {
          "output_type": "stream",
          "name": "stdout",
          "text": [
            "23122\n"
          ]
        }
      ]
    },
    {
      "cell_type": "code",
      "source": [
        "summarizer = pipeline('summarization')"
      ],
      "metadata": {
        "colab": {
          "base_uri": "https://localhost:8080/",
          "height": 212,
          "referenced_widgets": [
            "c85ae017194643b8bde1b5f82c693a19",
            "283061ba21cf471da652f2b5c83bf203",
            "0c2eb1741b824faeb30424c0f2cb7aff",
            "3b5d2e993cd54c5dbe254e3a19d761c8",
            "6acba5a4e9014d8695ea31be5e029c26",
            "5f9f6c1e6ed741e48c9144b2511cdaac",
            "74c36414918c41da9ff6915d3e30a4bd",
            "1859aef32fc5405492bd89934e16c984",
            "8d867d7ae47d4f1a830a593c7ed843b4",
            "e13451cdf59142dcb243263653cfb469",
            "275abbc43b1f4ef383982a0844e91576",
            "bfd198779dbe41d7bac9cdd213b776b8",
            "25a2137de2c54c799d026c10fc80d318",
            "df203e3d51524dbabaccc428ce320bcb",
            "cb0df4c9531345e2ac30f8d08a9b6faf",
            "b17f3756e0c74195a559c6fb235339ad",
            "f977b437244d4eca9b8cfbee46cf384f",
            "fae48cf3c30640e48b256b1006794819",
            "1bf14f8e88b940528e6cc511dc876e80",
            "c060601dd8f84083b169ea54a945dcdc",
            "78ab42bf048c4d04965b4a6bcc5a55b9",
            "e883a45f221241638e77cf98624e79ad",
            "fdd2ba4fd7c24e3892133301acdbc396",
            "285b639fccc44de184d0e7140c7778e1",
            "6a219792647040a6828e610012c066f9",
            "a249364a80e64309a293e43508cbc132",
            "af0cb47c9550488082149a70985b148d",
            "67c5fe38b13c4402afe6d91a7bf1cf85",
            "b7fb18b968e7410ebf36fe33ee57ab53",
            "be0362c5f874439a93884fa91f287fd5",
            "e95d78499cb143948453fadc9d02dc19",
            "9eb49ba5ab9c4a7b8afc82525135835e",
            "6124fc2ee8f94e5190efd8f66d6aefd7",
            "9465f79994b64c5586aed29781f639b0",
            "5a6217b6644047d1ac4a0d0464ebe5e8",
            "5192276627594a0faf09f90aadda48d5",
            "39dcf14c24c5453dabe833d141e6c835",
            "d872facb03954e5b9e29f68615a1d41b",
            "c5e1413fc43049d9a0e4a4069ffcf3cd",
            "fd432ae1ce114bf3a6d422e1ff828803",
            "4c27e62ad89e4b25a72ea10dddb74036",
            "f73a42bc446d427bb056d092a956912a",
            "3b8859fe299c4c0ea3ad3e1e3e25aaf4",
            "a5e00c7cf4d04375b5600c3224f4c09d",
            "21b40a6bea8e4bf1af7d4a6f9e11a3fb",
            "19fd5495c1bd4236843a00f17ead3f97",
            "239999e018f74fef8b3a601495b31f1e",
            "09f99cda62504d5d8326dc01265a8ba1",
            "501d0edeb97242329050699c88cf1088",
            "ab919752a90f4380bd19b09c303a7e5e",
            "2121c25ef5f64f1f816fd4bba7ffedf0",
            "116fd52490654525bb9da7e797233c98",
            "f9740eceb9f4407aa2b97af0aa9c99a5",
            "c3d9edb94f0f4b6ba63cba23d3312f13",
            "b4fe63e1670c4f508e0be75e3d689d3c"
          ]
        },
        "id": "deE4s4okMyQZ",
        "outputId": "55771571-4c5e-42f4-9e39-f7cc8b2f3671"
      },
      "execution_count": null,
      "outputs": [
        {
          "output_type": "stream",
          "name": "stderr",
          "text": [
            "No model was supplied, defaulted to sshleifer/distilbart-cnn-12-6 and revision a4f8f3e (https://huggingface.co/sshleifer/distilbart-cnn-12-6).\n",
            "Using a pipeline without specifying a model name and revision in production is not recommended.\n"
          ]
        },
        {
          "output_type": "display_data",
          "data": {
            "text/plain": [
              "Downloading (…)lve/main/config.json:   0%|          | 0.00/1.80k [00:00<?, ?B/s]"
            ],
            "application/vnd.jupyter.widget-view+json": {
              "version_major": 2,
              "version_minor": 0,
              "model_id": "c85ae017194643b8bde1b5f82c693a19"
            }
          },
          "metadata": {}
        },
        {
          "output_type": "display_data",
          "data": {
            "text/plain": [
              "Downloading pytorch_model.bin:   0%|          | 0.00/1.22G [00:00<?, ?B/s]"
            ],
            "application/vnd.jupyter.widget-view+json": {
              "version_major": 2,
              "version_minor": 0,
              "model_id": "bfd198779dbe41d7bac9cdd213b776b8"
            }
          },
          "metadata": {}
        },
        {
          "output_type": "display_data",
          "data": {
            "text/plain": [
              "Downloading (…)okenizer_config.json:   0%|          | 0.00/26.0 [00:00<?, ?B/s]"
            ],
            "application/vnd.jupyter.widget-view+json": {
              "version_major": 2,
              "version_minor": 0,
              "model_id": "fdd2ba4fd7c24e3892133301acdbc396"
            }
          },
          "metadata": {}
        },
        {
          "output_type": "display_data",
          "data": {
            "text/plain": [
              "Downloading (…)olve/main/vocab.json:   0%|          | 0.00/899k [00:00<?, ?B/s]"
            ],
            "application/vnd.jupyter.widget-view+json": {
              "version_major": 2,
              "version_minor": 0,
              "model_id": "9465f79994b64c5586aed29781f639b0"
            }
          },
          "metadata": {}
        },
        {
          "output_type": "display_data",
          "data": {
            "text/plain": [
              "Downloading (…)olve/main/merges.txt:   0%|          | 0.00/456k [00:00<?, ?B/s]"
            ],
            "application/vnd.jupyter.widget-view+json": {
              "version_major": 2,
              "version_minor": 0,
              "model_id": "21b40a6bea8e4bf1af7d4a6f9e11a3fb"
            }
          },
          "metadata": {}
        }
      ]
    },
    {
      "cell_type": "code",
      "source": [
        "num_iters = int(len(result)/1000)\n",
        "summarized_text = []\n",
        "for i in range(0, num_iters + 1):\n",
        "  start = 0\n",
        "  start = i * 1000\n",
        "  end = (i + 1) * 1000\n",
        "  print(\"input text \\n\" + result[start:end])\n",
        "  out = summarizer(result[start:end])\n",
        "  out = out[0]\n",
        "  out = out['summary_text']\n",
        "  print(\"Summarized text\\n\"+out)\n",
        "  summarized_text.append(out)\n",
        "\n",
        "#print(summarized_text)"
      ],
      "metadata": {
        "colab": {
          "base_uri": "https://localhost:8080/"
        },
        "id": "SxgMXNI8M6qX",
        "outputId": "f9d01585-5848-4ec1-b875-aa9c85e8ad3c"
      },
      "execution_count": null,
      "outputs": [
        {
          "output_type": "stream",
          "name": "stdout",
          "text": [
            "input text \n",
            " [Music] hello I'm Rudra not Sanyal welcome to war and peace your go-to program on security matters and geopolitics once again we thank all our viewers who keep in touch with us from different parts of the country and abroad well viewers in recent weeks you must have noticed that the world has started to take notice of the rise of India both as a military power and for India's rapid economic growth in fact some of the nation states have started calling India or developed nations already so in this edition of war and peace we will examine why so many important nation states are keen on strengthening their ties with India so a lead topic for you in this edition of war and peace is India and the world [Music] and on popular demand from our file short segment we will once again bring you a vignette on an epitome of communal harmony our guests for you in this edition of war and peace are ambassador Vaska Balakrishnan former senior diplomat and vice admiral Anoop Singh former commander of th\n",
            "Summarized text\n",
            " The world has started to take notice of the rise of India both as a military power and for India's rapid economic growth . Some of the nation states have started calling India or developed nations already so in this edition of war and peace we will examine why so many important nation states are keen on strengthening their ties with India .\n",
            "input text \n",
            "e Eastern Naval Command who has served in different parts of the world so I'll leave topic for you in this edition of war and peace India and the world [Music] so let's begin with vice-admiral enough saying Admiral India is being viewed as an important economic and military power since when do you think this started to happen but actually it happened a long time ago even during the cold war era and the Western powers were a little worried they they thought at that time that we were part of the Warsaw Pact or an ally of the Soviet Union but all that was happening was that at that time because from the mid 50s onward we were denied new technologies and weapons from the West therefore there was no alternative but to look towards the Soviet unit which was very happy in assisting us in order to build a good relationship and make the most important nation within the Indian Ocean region strong enough and when we started receiving military and technological assistance from the Soviet Union Ind\n",
            "Summarized text\n",
            " Admiral India is being viewed as an important economic and military power since when do you think this started to happen? Vice-admiral says it happened a long time ago even during the cold war era and the Western powers were a little worried they they thought at that time that we were part of the Warsaw Pact or an ally of the Soviet Union .\n",
            "input text \n",
            "ia was looked at by the entire world as a very powerful emerging nation but the real power and the real surge in strategic potential of India was witnessed in the mid 90s onwards because in the early 90s you recall that we started becoming globalized we opened up our economy and at the same time we started looking across the world not just at the Soviet Union for all forms of military technology as well so from the 90s and now what is that a special difference that you notice the special differences the fact is that money makes the mayor go and the 90s our economy had just started developing after two episodes of devaluation in 91 therefore up to 95 and 96 we still did not have enough economic power and therefore could not buy too many things from either the west or the Russian Federation because tradition also had become expensive but the real search started taking place in the early part of the millennium from the year 2000 onwards when economically we had started growing at a very h\n",
            "Summarized text\n",
            " India was looked at by the entire world as a very powerful emerging nation but the real power and the real surge in strategic potential of India was witnessed in the mid 90s onwards . The real search started taking place in the early part of the millennium from the year 2000 onwards when economically we had started growing at a very high rate .\n",
            "input text \n",
            "ealthy rate and we were able to afford acquisitions in all fields starting from space spend money on capital acquisitions and defense as well as in industrialization of the country you spoke of Russia or the earth while Soviet Union yes and now in the current security environment both Russia and the United States are keen and simultaneously keen on strengthening ties with India so what do you make of this well the fact is that everyone in particular the United States appreciates the fact that India can be a net security provider within the Indian Ocean region the United States started appreciating the fact that India is a not just an emerging power but it is the only power which can actually be depended upon to look after security in the Indian Ocean and also because of its historic reasons of being friend friendly to all nations we depended upon to do the best in the form of cooperation with other IOR literals and therefore it worked very well because India was also looking for acquis\n",
            "Summarized text\n",
            " Both Russia and the United States are keen and simultaneously keen on strengthening ties with India . U.S. appreciates the fact that India can be a net security provider within the Indian Ocean region . India was able to afford acquisitions in all fields starting from space spend money on capital acquisitions and defense .\n",
            "input text \n",
            "itions of technology as well as platforms as in military as well as in civil fields from the West rather than putting all eggs in one basket but one point over here that I would like to make is that we have always insisted on transfer of Technology which is not an easy thing for any nation to part with including the United States of America but we make the best of a deal in trying to say if not complete transfer of technology we must get the know-how and do what what is now being called making India now let's understand this from the perspective of the Umbra Dada a mother Bala both the United States and Russia simultaneously are keen on strengthening their ties with India so how do you explain this well it's just because India's economy is grown especially since the 90s early 90s after the reform and now in terms of nominal we are the fifth largest in the world and in PPP terms we are the third largest economy in the world so naturally this is attractive in terms of business for both t\n",
            "Summarized text\n",
            " Both the United States and Russia simultaneously are keen on strengthening their ties with India so how do you explain this well? India's economy is grown especially since the 90s early 90s after the reform and now in terms of nominal we are the fifth largest in the world .\n",
            "input text \n",
            "he US and for Russia Russia on the other hand has gone through severe changes the Soviet Union collapsed and Russian state has then emerged from that and now it's a very strong state under Putin and it is expanding its outreach in the Middle East and other areas so both countries want to have their linkages with India strong because India is a key regional player and they would like to have India on on their side of what they want to do in the region so as far as India is concerned our approach has been to build relations with all major powers and not get involved with differences among exactly a mother in fact to stretch this question a little further what is it that is so special about India in current geopolitics that India is not untouchable for virtually any nation state in the world like if India has its ties with Iran Israel doesn't move backwards and we have so many other examples so it is not just the two erstwhile superpowers Russia and the United States but also the case wit\n",
            "Summarized text\n",
            " India is not untouchable for virtually any nation state in the world like if India has its ties with Iran Israel doesn't move backwards and we have so many other examples so it is not just the two erstwhile superpowers Russia and the United States but also the case wit also the U.S.\n",
            "input text \n",
            "h so many other important nation states when it is a question of building ties with India how has diplomacy changed actually from this perspective I think diplomacy has become much more agile especially after the collapse of the Soviet Union and then the brief period where the United States was dominant and then now again in a multipolar world so I think our diplomacy has been agile and we have tried to have a balance for example between Israel and the Arab states we have tried to pursue our good relations on both sides and to the extent that we can we have tried to pursue our relations with the u.s. and Iran so the general approach has been to be flexible and pragmatic and look after our own interests and try to avoid getting entangled in any kind of a conflict between right other planes ambassador what examples can you think of you know from your long career and experience as a senior diplomat when the world started to take notice of India when you have posted abroad well I think in \n",
            "Summarized text\n",
            " Diplomacy has become more agile after the collapse of the Soviet Union and then the brief period where the United States was dominant and then now again in a multipolar world so I think our diplomacy has been agile and we have tried to have a balance for example between Israel and the Arab states .\n",
            "input text \n",
            "recent years the relationship on experience well mine has been more in the multilateral field so there we have had to fight a big battle to get into the nucleus appliance group we have not yet there our Nuclear Posture has now got recognition as a responsible nuclear weapon state we have got into three of the Technology Control regimes the fourth one Nuclear Suppliers group I think is a matter of time so that in terms of keeping a balance between those who want to push us into the NPT and those and our own requirements we have managed to stay to get actually the best of both worlds you have de facto got recognition as a nuclear weapons state without actually signing the NPT now that has caused some hot burning among some of the countries who still opposing India the entry into the NSG we have course my have to manage our relationship with China in a very nuanced way there is conflict there is cooperation and there is competition the three seas and I would add they could also be a risk \n",
            "Summarized text\n",
            " India has de facto got recognition as a nuclear weapons state without actually signing the NPT now that has caused some hot burning among some of the countries who still opposing India the entry into the NSG . We have to manage our relationship with China in a very nuanced way there is conflict there is cooperation and there is competition the three seas .\n",
            "input text \n",
            "of communication problem but with China is relatively less the same can be said with Pakistan there we a problem of both of communication as well as conflict you're watching war and peace your go-to program on security matters and geopolitics we will take a break now after which we will give you lot more insights please keep watching informative incisive intensive get your daily dose of news and analysis in English news night every weekday at 9 p.m. on TV India channel number six to zero on Tata Sky $1.99 on Dish TV one five zero on air tell to eight on UCL and three nine five on Videocon d2h welcome back you are watching war and peace your go to program on security matters and geopolitics and in this edition of war and peace our lead topic for you is India and the world that is the rise of India both in terms of economy and military prowess and our guests for you in this edition of war and peace our ambassador Vaska Balakrishnan former senior diplomat and Admiral an obscene former com\n",
            "Summarized text\n",
            " War and Peace is your go-to program on security matters and geopolitics . Our lead topic for you is India and the world that is the rise of India both in terms of economy and military prowess . Our guests for you in this edition of war and peace our ambassador Vaska Balakrishnan former senior diplomat and Admiral an obscene former com .\n",
            "input text \n",
            "mander-in-chief of the Eastern Naval Command so to go back to Admiral can you think of some examples how do you think the world started to take notice of the rise of India as you said it started in the 90s and but can you give us some examples from your personal experience well the first thing as I said was sometime in the middle of the 90s when the world noticed that all of a sudden we had liberalized our economy and despite two episodes of devaluation 1991 we had suddenly started growing at a very healthy rate and it started looking at it at an open market economy and it started now approaching all parts of the world for our needs and particularly for collaborations so that technology could be imbibed one has to remember that we missed Industrial Revolution because of having been colonized and we were perhaps the only country in the so-called third world which was actually very actively progressing in terms of defense and space as well as medicine therefore when we approached the Wes\n",
            "Summarized text\n",
            " Adm. mander-in-chief of the Eastern Naval Command . Admiral says the rise of India started in the 90s when the world noticed that all of a sudden we had liberalized our economy . India was perhaps the only country in the so-called third world which was actually very actively progressing in terms of defense and space as well as medicine .\n",
            "input text \n",
            "t it was not just because we wanted stuff from them the West was also viewing India in various fields in various manners I'll give you an example just after the Pokhran - nuclear blast in 1998 in less than a year while we were under sanctions and technology denial regime for almost a year the French government the then French president sent a special and boy over here to find out what do we need and so far as defense needs are concerned and also to find out what do we need it in other fields and so far as modern technology is concerned yes now this triggered the rush for other Western nations to start breaking a paradigm of such things continue to happen in the case of India yeah that's right surprisingly rather than surprises that's now Admiral India's Navy like you are a veteran from the Navy India's Navy is required to safeguard the various sea routes of the world the trade routes in the various sea the notions of the world so how important is in the Navy going to become or how more\n",
            "Summarized text\n",
            " Admiral India's Navy is required to safeguard the various sea routes of the world . He says the West was also viewing India in various fields in various manners after the Pokhran - nuclear blast in 1998 in less than a year while we were under sanctions and technology denial regime for almost a year the French government sent a special and boy over here to find out what do we need .\n",
            "input text \n",
            " important is it's likely to become in near and distant future one has to appreciate the fact that India is blessed with a peninsula and very few people in India and abroad and realize the fact that this is the second-largest peninsula in terms of real-estate size in the world and which is the largest the Arabian Peninsula comprising of 10 countries including a landlocked country India's Peninsula at 2.2 million square kilometers almost equal to the size of India's easy sitting secondly largest that means you've got access to on the three sides now after the end of the Cold War apart from the fact that this is a great opportunity for having so many ports and shipbuilding yards and other nodes of economic engagement within the easier and beyond there is also a huge responsibility on India to protect those sea lines of communication so natural naval power yes and down the ages in those the trade routes which I have to pass very very close to the western coast of India right now to go bac\n",
            "Summarized text\n",
            " India is blessed with a peninsula and very few people in India and abroad realize the fact that this is the second-largest peninsula in terms of real-estate size in the world . India's Peninsula at 2.2 million square kilometers almost equal to the size of India's easy sitting .\n",
            "input text \n",
            "k to a methodological balakrishnan ambassador what are some of the other factors like India is known to be a world leader in quite a few realms like in the field of satellite technology space nuclear and so on so what kind of a mileage does India especially get out of these expertise well we have of course a government large government led programs in nuclear and space space of course has both the civilian and the strategic dimension with satellites largely we have had to develop these large programs through our own efforts with some collaboration from abroad happily now the situation is much better however in the field of information technology especially after the 90s Indian trained manpower has made a huge impact in the IT field it's also got a big boost during the y2k period in 2000 and of course our own government had an information technology policy which really stimulated the whole IT sector so India has become regarded as a kind of world leader in the whole IT services sector a\n",
            "Summarized text\n",
            " India is known to be a world leader in quite a few realms like in the field of satellite technology space nuclear and so on so what kind of a mileage does India especially get out of these expertise well . India has of course a government large government led programs in nuclear and space space .\n",
            "input text \n",
            "nd that position has still remained it's now of course faces some challenges in the area of artificial intelligence and so on but I think our people have really moved up the ladder in the field IT and very quickly Amba that does it help that in geopolitics simultaneously India enjoys a fair amount of credibility and the Democratic nation state yes I think over 70 years each time we have elections is the largest election in human history president Trump himself referred to that in this recent visit so our elections are always the biggest in human history no mistake about it and there has never been any hiccup and something like this has a direct bearing on the security environment and not only can you qualify that I think that we have maintained our democratic position and within that framework we have tried to go ahead with our economic and social development has a certain impact on the developing world they look to India for many of its experiences in the field of development for exam\n",
            "Summarized text\n",
            " India's people have really moved up the ladder in the field IT and very quickly Amba that does it help that in geopolitics simultaneously India enjoys a fair amount of credibility and the Democratic nation state . I think that we have maintained our democratic position and within that framework we have tried to go ahead with our economic and social development .\n",
            "input text \n",
            "ple now that we have digital India other payment system these are things which have a huge potential application across the developing world and countries are looking up to India for you know trying to do something similar India is being viewed other developed country already in certain quarters well yes I think some Western countries are trying to label India as a developed country and therefore you don't deserve any trade preferences come to another point very quickly about that how soon do you think India will be a versatile hub for defense hardware manufacture and exports perhaps yeah I think this has process has now kicked off during this term of the government a government is serious about going into defense manufacturing and defense exports the recent deaf Expo held in Lucknow was a fairly big success and I think the scope for we have FDI liberalisation foreign companies are willing to come here to make components sub assemblies we are purchasing from much wider range of sources\n",
            "Summarized text\n",
            " Some Western countries are trying to label India as a developed country and therefore you don't deserve any trade preferences . India is being viewed other developed country already in certain quarters . Digital India has a huge potential application across the developing world and countries are looking up to India for you know trying to do something similar .\n",
            "input text \n",
            " our defense equipment so I think the scope for a name companies to get into defense manufacturing is very good the economic policies have been shaped up right and you know we have this parallel with the automobile sector at one time here only the Fiat and the ambassador then the sector was liberalized foreign players came in and now we are making cars and exporting them to other countries in fact just about two decades back there were speculations that India would perhaps become a half a second-hand car you know imports but far from that India is a car exporter automobile exporter now so we will take another quick break you are watching war and peace your go to program on security matters and geopolitics and our guest for you in this edition of war and peace our ambassador Bhaskar Bala Krishnan former a senior diplomat and Vice Admiral anok's saying former commander of the Eastern Naval Command who has served in different parts of the world please keep watching [Music] infinitive inci\n",
            "Summarized text\n",
            " The scope for a name companies to get into defense manufacturing is very good the economic policies have been shaped up right . India is a car exporter automobile exporter now so we will take another quick break you are watching war and peace your go to program on security matters and geopolitics and our guest for you in this edition of war and Peace our ambassador Bhaskar Bala Krishnan .\n",
            "input text \n",
            "sive intensive get your daily dose of news and analysis in English news night every weekday at 9:00 p.m. India channel number six to zero on Tata Sky $1.99 on Dish TV won 5-0 on EDL to 8 on ucn and three nine five on Videocon d2h welcome back you're watching war and peace your go to program on security matters and geopolitics so before the break we went into the reasons why India is viewed as both military power and also as an economic powerhouse now we will bring you a video from our file short segment on and epitome of communal harmony this was recorded in a remote village in Punjab some years ago on the way to Luciana from Chandigarh in the middle of the vast expanse of rural land his betray today despite village called serve are poor if you come here in your formal gear you might feel out of place in this little rural center where only bicycles are suitable for negotiating village roads but when you soak in the ambulance you at once feel at home children and adults offer you a warm\n",
            "Summarized text\n",
            " India channel number six to zero on Tata Sky $1.99 on Dish TV won 5-0 on EDL to 8 on ucn and three nine five on Videocon d2h welcome back you're watching war and peace your go to program on security matters and geopolitics . Before the break we went into the reasons why India is viewed as both military power and also as an economic powerhouse .\n",
            "input text \n",
            " welcome in unison together they are a group of messengers of peace and communal harmony Sikhs Muslims and Hindus make up this group and the high point of their message came in the form of a freshly built and painted mosque at a site next to the village Gurdwara a group of Sikh gentleman organized resources to ready the mosque and hand it over was involved in the process you can do anything eligible on the local high earning from what we can see the server for village has all the potential of becoming a little hub from where both rural and urban centres can draw inspiration and spread the message of peace and communal harmony [Music] well a mother in this vignette we actually see how a group of six built a mosque in the serve our poor village of Punjab now these examples of communal harmony are not quite rare in India and whether yes I think we are a multicultural multilingual multi-ethnic society I mean if you look at we have 23 languages official languages we have 28 states we are li\n",
            "Summarized text\n",
            " A mother in this vignette we actually see how a group of six built a mosque in the serve our poor village of Punjab . These examples of communal harmony are not quite rare in India and whether yes I think we are a multicultural multilingual multi-ethnic society .\n",
            "input text \n",
            "ke the European Union except we are much more closely integrated and we have grown and developed working with each other over the last 70 years so these are bonds which which cannot be broken even even though you may have a few incidents now and then but the overwhelming majority of Indians have learned to live and work together with each other in fact we depend on each other right and I don't know think what would you like to add the fact that we have survived all [Music] profits of dues sayings goes to prove actually the the the the litmus test lay in times of crisis where there was no difference between communities whenever the collateral is the offence of India that was the essence of it right and taking into account all those quotients that we discuss in this edition of war and peace how would you like to finally look at the future and the rise of India well the first requirement of developing nation and particularly I go back to the term part of the third world lies in becoming s\n",
            "Summarized text\n",
            " The litmus test lay in times of crisis where there was no difference between communities whenever the collateral is the offence of India that was the essence of it right . The overwhelming majority of Indians have learned to live and work together with each other in fact we depend on each other right and the fact that we have survived all [Music] profits of dues sayings .\n",
            "input text \n",
            "elf-reliant and we embarked on this mission right at the time of Independence particularly the defence services where we said we cannot be expected to be dependent on the West whether it was a colonial power or on the East even in the Soviet days we started saying that everything that comes over here we must be given an opportunity to understand how always wrong that's what you're saying that's right right so on that strong note we come to the end of this edition of war and peace your go to program on security matters and geopolitics if you wish to write to us you can send your emails to war and peace 2004 at hotmail.com you can also send your letters to war and peace room five one three Tobby do - in bar one copernicus mark New Delhi one one zero zero zero one so thank you a mother a baska Bala Krishnan Thank You Admiral Anoop Singh and thank you all bye-bye [Music] Lisbon the capital of Portugal is a city full of color and character this European city stands out with its unique archi\n",
            "Summarized text\n",
            " This edition of war and peace is our go to program on security matters and geopolitics . In bar one copernicus mark New Delhi one one zero zero zero one so thank you a mother a baska Bala Krishnan Thank You Admiral Anoop Singh and thank you all bye-bye [Music]\n",
            "input text \n",
            "tecture white sidewalks characteristic hills and trams and statues that mark grand squares with fountains in full bloom [Music] in there Portugal ties of kinship date back over 500 years when Portuguese explorer Vasco da Gama led a voyage from Portugal's shores to Calicut on the coast of Kerala breaking the venetian trade monopoly through land and expanding the frontiers of portuguese trade via sea in recent times political ties between India and Portugal have got a fillip through frequent high-level visits and several agreements cutting across sectors defense is a promising sphere of bilateral cooperation and a relatively new one to with a first offense MOU signed only in 2017 [Music] and man their systems on the nav naval sector and also on Indira notic and space as well we have progressed quite well at this stage there are effective engagement between Indian companies and Portuguese companies that I believe that in new term will have effective results either on transferring technolo\n",
            "Summarized text\n",
            " Portugal ties of kinship date back over 500 years when Portuguese explorer Vasco da Gama led a voyage from Portugal's shores to Calicut on the coast of Kerala . Political ties between India and Portugal have got a fillip through frequent high-level visits and several agreements cutting across sectors defense is a promising sphere of bilateral cooperation .\n",
            "input text \n",
            "gy to India and also introducing some Factory over there in training centers for this kind of domains industry of the management technology for domains marine science in oceanography is another area where cooperation is set to grow our cooperation link started about 20 years ago with a National Institute of Oceanography in the area of marine robotics to develop autonomous robots for ocean exploration and together we developed what I think he was the first civilian prototype of such a system and ever since we have been cooperating on the development of other kinds of robots for scientific applications Portugal has become a springboard for Indian companies to set base and expand to the rest of Europe which was very important for us to launch other countries because of the geographic region that we are at the moment also we have really good relationships with most of the countries around Europe South America even Africa so it helped us in that relationship in that bit it helped us a lot p\n",
            "Summarized text\n",
            " Portugal has become a springboard for Indian companies to set base and expand to the rest of Europe which was very important for us to launch other countries because of the geographic region that we are at the moment . We have really good relationships with most of the countries around Europe South America even Africa .\n",
            "input text \n",
            "ost breaks it Portugal aims to give a foothold to companies and looking to expand further into euro which his prime minister has actually recently declared again when he visited India that he would like to have received companies who are based in the UK to keep their base in the UK but to have a foot in the EU in Portugal with quantities platforms and holding Indian businesses there are opportunities waiting for Indian startups and entrepreneurs we give them complete assistance we do a hand-holding for them from India you bring them here we assist them in setting up the business diversity and plurality is a shared value in India and Portugal Abdul Vakeel only the second Muslim to come to Portugal in 1956 is a well respected person of Indian origin and Portugal who was conferred with a privacy party as a man by India and the Portuguese government has worked with him to organize inter-religious dialogue in Portugal I do a lot of inter-religious dialogue in the mosque brings when the pres\n"
          ]
        },
        {
          "output_type": "stream",
          "name": "stderr",
          "text": [
            "Your max_length is set to 142, but your input_length is only 27. Since this is a summarization task, where outputs shorter than the input are typically wanted, you might consider decreasing max_length manually, e.g. summarizer('...', max_length=13)\n"
          ]
        },
        {
          "output_type": "stream",
          "name": "stdout",
          "text": [
            "Summarized text\n",
            " Portugal aims to give a foothold to companies and looking to expand further into euro . Abdul Vakeel only the second Muslim to come to Portugal in 1956 is a well respected person of Indian origin and Portugal who was conferred with a privacy party as a man by India . Portugal has worked with him to organize inter-religious dialogue in Portugal .\n",
            "input text \n",
            "ence Marcelo was there we had 17 or 18 religions lined up each one right reading a sentence of it there regional political\n",
            "Summarized text\n",
            " Marcelo was there we had 17 or 18 religions lined up each one right reading a sentence of it there . Marcelo said: \"We had 17 religion lined up in the room\" Marcelo says: \"There were 17 religions on the floor.\" Marcelo: \"It was a very special moment for Marcelo to be there\"\n"
          ]
        }
      ]
    },
    {
      "cell_type": "code",
      "source": [
        "len(str(summarized_text))"
      ],
      "metadata": {
        "colab": {
          "base_uri": "https://localhost:8080/"
        },
        "id": "zse7PjKUNR6r",
        "outputId": "39a4f711-75c6-43bd-b31a-273cd3182ee7"
      },
      "execution_count": null,
      "outputs": [
        {
          "output_type": "execute_result",
          "data": {
            "text/plain": [
              "7984"
            ]
          },
          "metadata": {},
          "execution_count": 13
        }
      ]
    },
    {
      "cell_type": "code",
      "source": [
        "str(summarized_text)"
      ],
      "metadata": {
        "colab": {
          "base_uri": "https://localhost:8080/",
          "height": 122
        },
        "id": "Mhep5IsnOHci",
        "outputId": "c7b98cbe-d828-4a8c-8033-f46ae9308c73"
      },
      "execution_count": null,
      "outputs": [
        {
          "output_type": "execute_result",
          "data": {
            "text/plain": [
              "'[\" The world has started to take notice of the rise of India both as a military power and for India\\'s rapid economic growth . Some of the nation states have started calling India or developed nations already so in this edition of war and peace we will examine why so many important nation states are keen on strengthening their ties with India .\", \\' Admiral India is being viewed as an important economic and military power since when do you think this started to happen? Vice-admiral says it happened a long time ago even during the cold war era and the Western powers were a little worried they they thought at that time that we were part of the Warsaw Pact or an ally of the Soviet Union .\\', \\' India was looked at by the entire world as a very powerful emerging nation but the real power and the real surge in strategic potential of India was witnessed in the mid 90s onwards . The real search started taking place in the early part of the millennium from the year 2000 onwards when economically we had started growing at a very high rate .\\', \\' Both Russia and the United States are keen and simultaneously keen on strengthening ties with India . U.S. appreciates the fact that India can be a net security provider within the Indian Ocean region . India was able to afford acquisitions in all fields starting from space spend money on capital acquisitions and defense .\\', \" Both the United States and Russia simultaneously are keen on strengthening their ties with India so how do you explain this well? India\\'s economy is grown especially since the 90s early 90s after the reform and now in terms of nominal we are the fifth largest in the world .\", \" India is not untouchable for virtually any nation state in the world like if India has its ties with Iran Israel doesn\\'t move backwards and we have so many other examples so it is not just the two erstwhile superpowers Russia and the United States but also the case wit also the U.S.\", \\' Diplomacy has become more agile after the collapse of the Soviet Union and then the brief period where the United States was dominant and then now again in a multipolar world so I think our diplomacy has been agile and we have tried to have a balance for example between Israel and the Arab states .\\', \\' India has de facto got recognition as a nuclear weapons state without actually signing the NPT now that has caused some hot burning among some of the countries who still opposing India the entry into the NSG . We have to manage our relationship with China in a very nuanced way there is conflict there is cooperation and there is competition the three seas .\\', \\' War and Peace is your go-to program on security matters and geopolitics . Our lead topic for you is India and the world that is the rise of India both in terms of economy and military prowess . Our guests for you in this edition of war and peace our ambassador Vaska Balakrishnan former senior diplomat and Admiral an obscene former com .\\', \\' Adm. mander-in-chief of the Eastern Naval Command . Admiral says the rise of India started in the 90s when the world noticed that all of a sudden we had liberalized our economy . India was perhaps the only country in the so-called third world which was actually very actively progressing in terms of defense and space as well as medicine .\\', \" Admiral India\\'s Navy is required to safeguard the various sea routes of the world . He says the West was also viewing India in various fields in various manners after the Pokhran - nuclear blast in 1998 in less than a year while we were under sanctions and technology denial regime for almost a year the French government sent a special and boy over here to find out what do we need .\", \" India is blessed with a peninsula and very few people in India and abroad realize the fact that this is the second-largest peninsula in terms of real-estate size in the world . India\\'s Peninsula at 2.2 million square kilometers almost equal to the size of India\\'s easy sitting .\", \\' India is known to be a world leader in quite a few realms like in the field of satellite technology space nuclear and so on so what kind of a mileage does India especially get out of these expertise well . India has of course a government large government led programs in nuclear and space space .\\', \" India\\'s people have really moved up the ladder in the field IT and very quickly Amba that does it help that in geopolitics simultaneously India enjoys a fair amount of credibility and the Democratic nation state . I think that we have maintained our democratic position and within that framework we have tried to go ahead with our economic and social development .\", \" Some Western countries are trying to label India as a developed country and therefore you don\\'t deserve any trade preferences . India is being viewed other developed country already in certain quarters . Digital India has a huge potential application across the developing world and countries are looking up to India for you know trying to do something similar .\", \\' The scope for a name companies to get into defense manufacturing is very good the economic policies have been shaped up right . India is a car exporter automobile exporter now so we will take another quick break you are watching war and peace your go to program on security matters and geopolitics and our guest for you in this edition of war and Peace our ambassador Bhaskar Bala Krishnan .\\', \" India channel number six to zero on Tata Sky $1.99 on Dish TV won 5-0 on EDL to 8 on ucn and three nine five on Videocon d2h welcome back you\\'re watching war and peace your go to program on security matters and geopolitics . Before the break we went into the reasons why India is viewed as both military power and also as an economic powerhouse .\", \\' A mother in this vignette we actually see how a group of six built a mosque in the serve our poor village of Punjab . These examples of communal harmony are not quite rare in India and whether yes I think we are a multicultural multilingual multi-ethnic society .\\', \\' The litmus test lay in times of crisis where there was no difference between communities whenever the collateral is the offence of India that was the essence of it right . The overwhelming majority of Indians have learned to live and work together with each other in fact we depend on each other right and the fact that we have survived all [Music] profits of dues sayings .\\', \\' This edition of war and peace is our go to program on security matters and geopolitics . In bar one copernicus mark New Delhi one one zero zero zero one so thank you a mother a baska Bala Krishnan Thank You Admiral Anoop Singh and thank you all bye-bye [Music]\\', \" Portugal ties of kinship date back over 500 years when Portuguese explorer Vasco da Gama led a voyage from Portugal\\'s shores to Calicut on the coast of Kerala . Political ties between India and Portugal have got a fillip through frequent high-level visits and several agreements cutting across sectors defense is a promising sphere of bilateral cooperation .\", \\' Portugal has become a springboard for Indian companies to set base and expand to the rest of Europe which was very important for us to launch other countries because of the geographic region that we are at the moment . We have really good relationships with most of the countries around Europe South America even Africa .\\', \\' Portugal aims to give a foothold to companies and looking to expand further into euro . Abdul Vakeel only the second Muslim to come to Portugal in 1956 is a well respected person of Indian origin and Portugal who was conferred with a privacy party as a man by India . Portugal has worked with him to organize inter-religious dialogue in Portugal .\\', \\' Marcelo was there we had 17 or 18 religions lined up each one right reading a sentence of it there . Marcelo said: \"We had 17 religion lined up in the room\" Marcelo says: \"There were 17 religions on the floor.\" Marcelo: \"It was a very special moment for Marcelo to be there\"\\']'"
            ],
            "application/vnd.google.colaboratory.intrinsic+json": {
              "type": "string"
            }
          },
          "metadata": {},
          "execution_count": 14
        }
      ]
    },
    {
      "cell_type": "code",
      "source": [],
      "metadata": {
        "id": "Q5m5OBB0OJ8z"
      },
      "execution_count": null,
      "outputs": []
    }
  ]
}